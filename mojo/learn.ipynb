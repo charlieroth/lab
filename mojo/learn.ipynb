{
 "cells": [
  {
   "cell_type": "markdown",
   "metadata": {},
   "source": [
    "# Variables\n",
    "\n",
    "## Undeclared Variables\n",
    "\n",
    "Within a `def` function or REPL environment, you can create a variable with just a name and a value\n",
    "\n",
    "```python\n",
    "name = \"Sam\"\n",
    "```\n",
    "\n",
    "A variable declared without `var` or `let` is mutable (it defaults to `var`)"
   ]
  },
  {
   "cell_type": "markdown",
   "metadata": {},
   "source": [
    "## Mutable `var` and Immutable `let` Variables"
   ]
  },
  {
   "cell_type": "code",
   "execution_count": 15,
   "metadata": {},
   "outputs": [],
   "source": [
    "var name = \"Sam\" # Mutable\n",
    "let user_id = 42 # Immutable"
   ]
  },
  {
   "cell_type": "markdown",
   "metadata": {},
   "source": [
    "## Type Annotations\n",
    "\n",
    "Mojo supports dynamic variable types, which can be infered at runtime, and also supports static type annotations on variables enabling strong compile-time type checking providing more predictable, managable and secure code"
   ]
  },
  {
   "cell_type": "markdown",
   "metadata": {},
   "source": [
    "# Structs\n",
    "\n",
    "A Mojo struct is a data structure that allows you to encapsulate fields and methods that operate on an abstraction, such as a data type or an object.\n",
    "\n",
    "For the most part, Mojo’s struct format is designed to provide a static, memory-safe data structure for high-level data types used in programs. For example, all the data types in Mojo’s standard library (such as `Int`, `Bool`, `String`, and `Tuple`) are defined as structs."
   ]
  },
  {
   "cell_type": "markdown",
   "metadata": {},
   "source": [
    "## Struct Definition\n",
    "\n",
    "Notice that the first argument in the `__init__()` method is `inout self`, it’s an argument convention that declares self is a mutable reference. \n",
    "\n",
    "### Methods\n",
    "\n",
    "Methods that take the implicit `self` argument are called instance methods because they act on an instance of the struct."
   ]
  },
  {
   "cell_type": "code",
   "execution_count": 18,
   "metadata": {},
   "outputs": [],
   "source": [
    "struct MyPair:\n",
    "  var first: Int\n",
    "  var second: Int\n",
    "\n",
    "  fn __init__(inout self, first: Int, second: Int):\n",
    "    self.first = first\n",
    "    self.second = second\n",
    "\n",
    "  fn get_sum(self) -> Int:\n",
    "    return self.first + self.second"
   ]
  },
  {
   "cell_type": "code",
   "execution_count": 19,
   "metadata": {},
   "outputs": [
    {
     "name": "stdout",
     "output_type": "stream",
     "text": [
      "2\n",
      "6\n"
     ]
    }
   ],
   "source": [
    "let mine = MyPair(2, 4)\n",
    "print(mine.first)\n",
    "print(mine.get_sum())"
   ]
  },
  {
   "cell_type": "markdown",
   "metadata": {},
   "source": [
    "#### Static Methods\n",
    "\n",
    "A static method can be called without creating an instance of the struct. Unlike instance methods, a static method doesn’t receive the implicit `self` argument, so it can’t access any fields on the struct."
   ]
  },
  {
   "cell_type": "code",
   "execution_count": 22,
   "metadata": {},
   "outputs": [],
   "source": [
    "struct Logger:\n",
    "  fn __init__(inout self):\n",
    "    pass\n",
    "  \n",
    "  @staticmethod\n",
    "  fn log_info(message: String):\n",
    "    print(\"[INFO]: \", message)"
   ]
  },
  {
   "cell_type": "code",
   "execution_count": 23,
   "metadata": {},
   "outputs": [
    {
     "name": "stdout",
     "output_type": "stream",
     "text": [
      "[INFO]:  Static method called.\n",
      "[INFO]:  Static method called from instance.\n"
     ]
    }
   ],
   "source": [
    "Logger.log_info(\"Static method called.\")\n",
    "var l = Logger()\n",
    "l.log_info(\"Static method called from instance.\")"
   ]
  },
  {
   "cell_type": "markdown",
   "metadata": {},
   "source": [
    "### Structs Compared to Classes\n",
    "\n",
    "Eventually, Mojo will also support classes to match the behavior of Python classes.\n",
    "\n",
    "- Python classes are dynamic: they allow for dynamic dispatch, monkey-patching (or “swizzling”), and dynamically binding instance fields at runtime.\n",
    "\n",
    "- Mojo structs are static: they are bound at compile-time (you cannot add methods at runtime). Structs allow you to trade flexibility for performance while being safe and easy to use.\n",
    "\n",
    "- Mojo structs do not support inheritance (“sub-classing”), but a struct can implement *traits*.\n",
    "\n",
    "- Python classes support class attributes—values that are shared by all instances of the class, equivalent to class variables or static data members in other languages.\n",
    "\n",
    "- Mojo structs don’t support static data members."
   ]
  },
  {
   "cell_type": "markdown",
   "metadata": {},
   "source": [
    "### `@value` Decorator\n",
    "\n",
    "When you add the `@value` decorator to a struct, Mojo will synthesize the essential lifecycle methods so your object provides full value semantics. Specifically, it generates the `__init__()`, `__copyinit__()`, and `__moveinit__()` methods, which allow you to construct, copy, and move your struct type in a manner that’s value semantic and compatible with Mojo’s ownership model.\n",
    "\n",
    "When you add the `@value decorator`, Mojo synthesizes each special method above only if it doesn’t exist already. That is, you can still implement a custom version of each method."
   ]
  },
  {
   "cell_type": "code",
   "execution_count": 24,
   "metadata": {},
   "outputs": [],
   "source": [
    "@value\n",
    "struct MyPet:\n",
    "    var name: String\n",
    "    var age: Int"
   ]
  },
  {
   "cell_type": "markdown",
   "metadata": {},
   "source": [
    "Without the copy and move constructors, the following code would not work because Mojo would not know how to copy an instance of `MyPet`:"
   ]
  },
  {
   "cell_type": "code",
   "execution_count": 25,
   "metadata": {},
   "outputs": [
    {
     "name": "stdout",
     "output_type": "stream",
     "text": [
      "Charlie\n"
     ]
    }
   ],
   "source": [
    "let dog = MyPet(\"Charlie\", 5)\n",
    "let poodle = dog\n",
    "print(poodle.name)"
   ]
  },
  {
   "cell_type": "markdown",
   "metadata": {},
   "source": [
    "# Traits\n",
    "\n",
    "A *trait* is a set of requirements that a type must implement. You can think of it as a contract: a type that *conforms* to a trait guarantees that it implements all of the features of the trait.\n",
    "\n",
    "Traits are similar to Java *interfaces*, C++ *concepts*, Swift *protocols*, and Rust *traits*. If you’re familiar with any of those features, Mojo traits solve the same basic problem.\n",
    "\n",
    "### Traits Can Require Static Methods\n",
    "\n",
    "In addition to regular instance methods, traits can specify required static methods:\n",
    "\n",
    "```mojo\n",
    "trait HasStaticMethod:\n",
    "    @staticmethod\n",
    "    fn do_stuff(): ...\n",
    "\n",
    "fn fun_with_traits[T: HasStaticMethod]():\n",
    "    T.do_stuff()\n",
    "```"
   ]
  },
  {
   "cell_type": "markdown",
   "metadata": {},
   "source": [
    "## Using Traits\n",
    "\n",
    "Traits solve the problem of writing function overloads for each time you want to have some behavior by letting you define a shared set of behaviors that types can implement. Then you can write a function that depends on the trait, rather than individual types."
   ]
  },
  {
   "cell_type": "code",
   "execution_count": 27,
   "metadata": {},
   "outputs": [
    {
     "name": "stdout",
     "output_type": "stream",
     "text": [
      "Quack\n",
      "Moo!\n"
     ]
    }
   ],
   "source": [
    "trait Quackable:\n",
    "  fn quack(self):\n",
    "    pass\n",
    "\n",
    "@value\n",
    "struct Duck(Quackable):\n",
    "  fn quack(self):\n",
    "    print(\"Quack\")\n",
    "\n",
    "@value\n",
    "struct StealthCow(Quackable):\n",
    "  fn quack(self):\n",
    "    print(\"Moo!\")\n",
    "\n",
    "let duck = Duck()\n",
    "duck.quack()\n",
    "\n",
    "let cow = StealthCow()\n",
    "cow.quack()"
   ]
  },
  {
   "cell_type": "markdown",
   "metadata": {},
   "source": [
    "You can define a function that takes a `Quackable` like this:"
   ]
  },
  {
   "cell_type": "code",
   "execution_count": 28,
   "metadata": {},
   "outputs": [],
   "source": [
    "fn make_it_quack[T: Quackable](maybe_a_duck: T):\n",
    "  maybe_a_duck.quack()"
   ]
  },
  {
   "cell_type": "code",
   "execution_count": 30,
   "metadata": {},
   "outputs": [
    {
     "name": "stdout",
     "output_type": "stream",
     "text": [
      "Quack\n",
      "Moo!\n"
     ]
    }
   ],
   "source": [
    "make_it_quack(Duck())\n",
    "make_it_quack(StealthCow())"
   ]
  },
  {
   "cell_type": "markdown",
   "metadata": {},
   "source": [
    "## Trait Inheritance\n",
    "\n",
    "Traits can inherit from other traits. A trait that inherits from another trait includes all of the requirements declared by the parent trait\n",
    "\n",
    "Since `Bird` inherits from `Animal`, a struct that conforms to the `Bird` trait needs to implement both `make_sound()` and `fly()`. And since every `Bird` conforms to `Animal`, a struct that conforms to `Bird` can be passed to any function that requires an `Animal`."
   ]
  },
  {
   "cell_type": "code",
   "execution_count": 32,
   "metadata": {},
   "outputs": [],
   "source": [
    "trait Animal:\n",
    "  fn make_sound(self):\n",
    "    pass\n",
    "\n",
    "# Bird inherits from Animal\n",
    "trait Bird(Animal):\n",
    "  fn fly(self):\n",
    "    pass"
   ]
  },
  {
   "cell_type": "markdown",
   "metadata": {},
   "source": [
    "# Functions\n",
    "\n",
    "Functions can be declared with `fn` or `def`\n",
    "\n",
    "### Value ownership and argument mutability\n",
    "\n",
    "`def` functions receive arguments \"by value\"\n",
    "\n",
    "`fn` functions receive arguments \"by immutable reference\"\n",
    "\n",
    "Mojo allows you to specify for each argument whether it should be passed by value (as `owned`), or whether it should be passed by reference (as `borrowed` for an immutable reference, or as `inout` for a mutable reference)\n",
    "\n",
    "See below section on \"Value Ownership\""
   ]
  },
  {
   "cell_type": "code",
   "execution_count": 3,
   "metadata": {},
   "outputs": [],
   "source": [
    "fn greet(name: String) -> String:\n",
    "  return \"Hello, \" + name"
   ]
  },
  {
   "cell_type": "code",
   "execution_count": 6,
   "metadata": {},
   "outputs": [
    {
     "name": "stdout",
     "output_type": "stream",
     "text": [
      "Hello, Charlie Roth\n"
     ]
    }
   ],
   "source": [
    "greeting = greet(\"Charlie Roth\")\n",
    "print(greeting)"
   ]
  },
  {
   "cell_type": "markdown",
   "metadata": {},
   "source": [
    "# Value Ownership\n",
    "\n",
    "## Introduction to Value Semantics\n",
    "\n",
    "In the most basic situation, sharing a value-semantic type means that you create a copy of the value. This is also known as “pass by value.”"
   ]
  },
  {
   "cell_type": "code",
   "execution_count": 7,
   "metadata": {},
   "outputs": [
    {
     "name": "stdout",
     "output_type": "stream",
     "text": [
      "1\n",
      "2\n"
     ]
    }
   ],
   "source": [
    "x = 1\n",
    "y = x\n",
    "y += 1\n",
    "print(x)\n",
    "print(y)"
   ]
  },
  {
   "cell_type": "markdown",
   "metadata": {},
   "source": [
    "Each variable has exclusive ownership of a value\n",
    "\n",
    "If a type instead uses reference semantics, then y would point to the same value as x, and incrementing either one would affect the value for both. Neither x nor y would “own” the value, and any variable would be allowed to reference it and mutate it"
   ]
  },
  {
   "cell_type": "markdown",
   "metadata": {},
   "source": [
    "Another example"
   ]
  },
  {
   "cell_type": "code",
   "execution_count": 8,
   "metadata": {},
   "outputs": [
    {
     "name": "stdout",
     "output_type": "stream",
     "text": [
      "2\n",
      "1\n"
     ]
    }
   ],
   "source": [
    "def add_one(y: Int):\n",
    "  y += 1\n",
    "  print(y)\n",
    "\n",
    "x = 1\n",
    "add_one(x)\n",
    "print(x)"
   ]
  },
  {
   "cell_type": "markdown",
   "metadata": {},
   "source": [
    "If you’re familiar with Python, this is probably familiar so far, because the code above behaves the same in Python. However, Python is not value semantic. It gets complicated, but let’s consider a situation in which you call a Python function and pass an object with a pointer to a heap-allocated value. Python actually gives that function a reference to your object, which allows the function to mutate the heap-allocated value. This can cause nasty bugs if you’re not careful, because the function might incorrectly assume it has unique ownership of that object."
   ]
  },
  {
   "cell_type": "markdown",
   "metadata": {},
   "source": [
    "In Mojo, the default behavior for all function arguments is to use value semantics. If the function wants to modify the value of an incoming argument, then it must explicitly declare so, which avoids accidental mutations."
   ]
  },
  {
   "cell_type": "markdown",
   "metadata": {},
   "source": [
    "For example, even though the Mojo `Tensor` type allocates values on the heap, when you pass an instance to a def function, it creates a unique copy of all values. Thus, if we modify the argument in the function, the original value is unchanged:"
   ]
  },
  {
   "cell_type": "code",
   "execution_count": 10,
   "metadata": {},
   "outputs": [],
   "source": [
    "def update_tensor(t: Tensor[DType.uint8]):\n",
    "  t[1] = 3\n",
    "  print(t)"
   ]
  },
  {
   "cell_type": "code",
   "execution_count": 11,
   "metadata": {},
   "outputs": [
    {
     "name": "stdout",
     "output_type": "stream",
     "text": [
      "Tensor([[1, 3]], dtype=uint8, shape=2)\n",
      "Tensor([[1, 2]], dtype=uint8, shape=2)\n"
     ]
    }
   ],
   "source": [
    "t = Tensor[DType.uint8](2)\n",
    "t[0] = 1\n",
    "t[1] = 2\n",
    "update_tensor(t)\n",
    "print(t)"
   ]
  },
  {
   "cell_type": "markdown",
   "metadata": {},
   "source": [
    "If this were Python code, the function would modify the original object, because Python shares a reference to the original object."
   ]
  },
  {
   "cell_type": "markdown",
   "metadata": {},
   "source": [
    "### Values Semantics in `def` vs `fn`\n",
    "\n",
    "The arguments above are mutable because a `def` function gets ownership for its arguments by default (usually as a copy). Whereas, `fn` functions instead receive arguments as immutable references, by default. This is a memory optimization to avoid making unnecessary copies."
   ]
  },
  {
   "cell_type": "code",
   "execution_count": 13,
   "metadata": {},
   "outputs": [
    {
     "name": "stdout",
     "output_type": "stream",
     "text": [
      "3\n",
      "1\n"
     ]
    }
   ],
   "source": [
    "fn add_two(y: Int):\n",
    "    # y += 2 # This will cause a compiler error because `y` is immutable\n",
    "    # We can instead make an explicit copy:\n",
    "    var z = y\n",
    "    z += 2\n",
    "    print(z)\n",
    "\n",
    "x = 1\n",
    "add_two(x)\n",
    "print(x)"
   ]
  },
  {
   "cell_type": "markdown",
   "metadata": {},
   "source": [
    "The way the fn function receives the `y` value is a “look but don’t touch” approach to value semantics. This is also a more memory-efficient approach when dealing with memory-intensive arguments, because Mojo doesn’t make any copies unless we explicitly make the copies ourselves."
   ]
  },
  {
   "cell_type": "markdown",
   "metadata": {},
   "source": [
    "# Ownership and Borrowing\n",
    "\n",
    "When using some programming languages is that you must manually allocate and deallocate memory. When multiple parts of the program need access to the same memory, it becomes difficult to keep track of who “owns” a value and determine when is the right time to deallocate it. If you make a mistake, it can result in a “use-after-free” error, a “double free” error, or a “leaked memory” error, any one of which can be catastrophic.\n",
    "\n",
    "Mojo helps avoid these errors by ensuring there is only one variable that owns each value at a time, while still allowing you to share references with other functions. When the lifetime of the owner ends, Mojo destroys the value.\n",
    "\n",
    "## Argument Conventions\n",
    "\n",
    "An argument convention specifies whether an argument is mutable or immutable, and whether the function owns the value. Each convention is defined by a keyword at the beginning of an argument declaration:\n",
    "\n",
    "- `borrowed`: The function receives an immutable reference. This means the function can read the original value (it is not a copy), but it cannot mutate (modify) it.\n",
    "\n",
    "- `inout`: The function receives a mutable reference. This means the function can read and mutate the original value (it is not a copy).\n",
    "\n",
    "- `owned`: The function takes ownership. This means the function has exclusive mutable access to the argument—the function caller does not have access to this value (anymore). Often, this also implies that the caller should transfer ownership to this function, but that’s not always what happens and this might instead be a copy (as you’ll learn below)."
   ]
  },
  {
   "cell_type": "markdown",
   "metadata": {},
   "source": []
  },
  {
   "cell_type": "code",
   "execution_count": 14,
   "metadata": {},
   "outputs": [
    {
     "name": "stdout",
     "output_type": "stream",
     "text": [
      "3\n"
     ]
    }
   ],
   "source": [
    "fn add(inout x: Int, borrowed y: Int):\n",
    "  x += y\n",
    "\n",
    "var a = 1\n",
    "let b = 2\n",
    "add(a, b)\n",
    "print(a)"
   ]
  }
 ],
 "metadata": {
  "kernelspec": {
   "display_name": "Mojo",
   "language": "mojo",
   "name": "mojo-jupyter-kernel"
  },
  "language_info": {
   "codemirror_mode": {
    "name": "mojo"
   },
   "file_extension": ".mojo",
   "mimetype": "text/x-mojo",
   "name": "mojo"
  }
 },
 "nbformat": 4,
 "nbformat_minor": 2
}
