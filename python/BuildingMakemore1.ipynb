{
 "cells": [
  {
   "attachments": {},
   "cell_type": "markdown",
   "metadata": {},
   "source": [
    "## Building Makemore (Part 01)\n",
    "\n",
    "This is the first part of a series of notebooks that will build Makemore. Makemore is a language model that can be used to generate text.\n",
    "\n",
    "This notebook focuses on building a bigram character-level language model. This model is trained on a text file with ~32K names and will generate similar names. The intention of this notebook is to show how to build a language model from scratch.\n",
    "\n",
    "This notebook follows Andrej Karpathy's [Neural Networks: Zero to Hero - Building Makemore (Part 01) video](https://www.youtube.com/watch?v=PaCmpygFfXo&ab_channel=AndrejKarpathy) which will eventually build the Makemore model found [here](https://github.com/karpathy/makemore). The notebooks following will eventually implement a modern Transformer language model, like GPT.\n",
    "\n",
    "This notebooks focuses on the following:\n",
    "1. Introducing `torch.Tensor` and how to use it for efficiently evaluating neural networks\n",
    "2. The overall framework of language modeling including training, sampling and evaluation of a loss (negative log-likelihood for classification)\n"
   ]
  },
  {
   "attachments": {},
   "cell_type": "markdown",
   "metadata": {},
   "source": [
    "First, importing the required libraries"
   ]
  },
  {
   "cell_type": "code",
   "execution_count": null,
   "metadata": {},
   "outputs": [],
   "source": []
  }
 ],
 "metadata": {
  "kernelspec": {
   "display_name": "base",
   "language": "python",
   "name": "python3"
  },
  "language_info": {
   "name": "python",
   "version": "3.10.9"
  },
  "orig_nbformat": 4
 },
 "nbformat": 4,
 "nbformat_minor": 2
}
