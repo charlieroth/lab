{
 "cells": [
  {
   "cell_type": "code",
   "execution_count": 1,
   "metadata": {},
   "outputs": [],
   "source": [
    "import numpy as np"
   ]
  },
  {
   "attachments": {},
   "cell_type": "markdown",
   "metadata": {},
   "source": [
    "## Mathematics For Machine Learning\n",
    "\n",
    "A notebook for learning the mathematics for machine learning via python code"
   ]
  },
  {
   "attachments": {},
   "cell_type": "markdown",
   "metadata": {},
   "source": [
    "#### Matrices"
   ]
  },
  {
   "attachments": {},
   "cell_type": "markdown",
   "metadata": {},
   "source": [
    "Matrix Addition\n",
    "\n",
    "The sum of two matrices $A \\in R^{m,n}, A \\in R^{m,n}$ is defined as the element-wise sum"
   ]
  },
  {
   "cell_type": "code",
   "execution_count": 2,
   "metadata": {},
   "outputs": [
    {
     "data": {
      "text/plain": [
       "array([[ 2,  4,  6],\n",
       "       [ 8, 10, 12]])"
      ]
     },
     "execution_count": 2,
     "metadata": {},
     "output_type": "execute_result"
    }
   ],
   "source": [
    "A = np.array([\n",
    "    [1, 2, 3],\n",
    "    [4, 5, 6]\n",
    "])\n",
    "B = np.array([\n",
    "    [1, 2, 3],\n",
    "    [4, 5, 6]\n",
    "])\n",
    "A + B"
   ]
  },
  {
   "attachments": {},
   "cell_type": "markdown",
   "metadata": {},
   "source": [
    "Matrix Multiplication\n",
    "\n",
    "The product of two matrices $A \\in R^{m, n}, B \\in R^{n, k}$ is $C = AB \\in R^{n,k}$ "
   ]
  },
  {
   "cell_type": "code",
   "execution_count": 3,
   "metadata": {},
   "outputs": [
    {
     "data": {
      "text/plain": [
       "(array([[2, 3],\n",
       "        [2, 5]]),\n",
       " array([[ 6,  4,  2],\n",
       "        [-2,  0,  2],\n",
       "        [ 3,  2,  1]]))"
      ]
     },
     "execution_count": 3,
     "metadata": {},
     "output_type": "execute_result"
    }
   ],
   "source": [
    "A = np.array([\n",
    "    [1, 2, 3],\n",
    "    [3, 2, 1]\n",
    "])\n",
    "B = np.array([\n",
    "    [0, 2],\n",
    "    [1, -1],\n",
    "    [0, 1]\n",
    "])\n",
    "\n",
    "(A @ B, B @ A)"
   ]
  },
  {
   "attachments": {},
   "cell_type": "markdown",
   "metadata": {},
   "source": [
    "Identitty Matrix"
   ]
  },
  {
   "cell_type": "code",
   "execution_count": 4,
   "metadata": {},
   "outputs": [
    {
     "data": {
      "text/plain": [
       "array([[1., 0., 0., 0., 0.],\n",
       "       [0., 1., 0., 0., 0.],\n",
       "       [0., 0., 1., 0., 0.],\n",
       "       [0., 0., 0., 1., 0.],\n",
       "       [0., 0., 0., 0., 1.]])"
      ]
     },
     "execution_count": 4,
     "metadata": {},
     "output_type": "execute_result"
    }
   ],
   "source": [
    "np.identity(5)"
   ]
  },
  {
   "attachments": {},
   "cell_type": "markdown",
   "metadata": {},
   "source": [
    "Associativity Property"
   ]
  },
  {
   "cell_type": "code",
   "execution_count": 5,
   "metadata": {},
   "outputs": [
    {
     "data": {
      "text/plain": [
       "True"
      ]
     },
     "execution_count": 5,
     "metadata": {},
     "output_type": "execute_result"
    }
   ],
   "source": [
    "# m,n\n",
    "A = np.array([\n",
    "    [2, 3],\n",
    "    [3, 2]\n",
    "])\n",
    "# n,p\n",
    "B = np.array([\n",
    "    [2, 3, 1],\n",
    "    [3, 2, 1]\n",
    "])\n",
    "# p,q\n",
    "C = np.array([\n",
    "    [2, 3],\n",
    "    [3, 2],\n",
    "    [5, 1]\n",
    "])\n",
    "\n",
    "D1 = (A @ B) @ C\n",
    "D2 = A @ (B @ C)\n",
    "np.array_equiv(D1, D2)"
   ]
  },
  {
   "attachments": {},
   "cell_type": "markdown",
   "metadata": {},
   "source": [
    "Distributivity Property"
   ]
  },
  {
   "cell_type": "code",
   "execution_count": 6,
   "metadata": {},
   "outputs": [
    {
     "name": "stdout",
     "output_type": "stream",
     "text": [
      "True\n",
      "True\n"
     ]
    }
   ],
   "source": [
    "# m,n\n",
    "A = np.array([\n",
    "    [2, 3],\n",
    "    [3, 2]\n",
    "])\n",
    "B = np.array([\n",
    "    [3, 1],\n",
    "    [2, 1]\n",
    "])\n",
    "\n",
    "# n,p\n",
    "C = np.array([\n",
    "    [2, 3, 1],\n",
    "    [3, 2, 1],\n",
    "])\n",
    "D = np.array([\n",
    "    [4, 2, 3],\n",
    "    [8, 3, 2],\n",
    "])\n",
    "\n",
    "\n",
    "print(np.array_equiv((A + B) @ C, (A @ C) + (B @ C)))\n",
    "print(np.array_equiv(A @ (C + D), (A @ C) + (A @ D)))"
   ]
  },
  {
   "attachments": {},
   "cell_type": "markdown",
   "metadata": {},
   "source": [
    "Inverse Matrix\n",
    "\n"
   ]
  }
 ],
 "metadata": {
  "kernelspec": {
   "display_name": "base",
   "language": "python",
   "name": "python3"
  },
  "language_info": {
   "codemirror_mode": {
    "name": "ipython",
    "version": 3
   },
   "file_extension": ".py",
   "mimetype": "text/x-python",
   "name": "python",
   "nbconvert_exporter": "python",
   "pygments_lexer": "ipython3",
   "version": "3.12.2"
  },
  "orig_nbformat": 4
 },
 "nbformat": 4,
 "nbformat_minor": 2
}
